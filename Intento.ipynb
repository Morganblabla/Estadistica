{
  "nbformat": 4,
  "nbformat_minor": 0,
  "metadata": {
    "colab": {
      "provenance": [],
      "authorship_tag": "ABX9TyPXLmdBT28m2TD5XNE+sSK0",
      "include_colab_link": true
    },
    "kernelspec": {
      "name": "python3",
      "display_name": "Python 3"
    },
    "language_info": {
      "name": "python"
    }
  },
  "cells": [
    {
      "cell_type": "markdown",
      "metadata": {
        "id": "view-in-github",
        "colab_type": "text"
      },
      "source": [
        "<a href=\"https://colab.research.google.com/github/Morganblabla/Estadistica/blob/main/Intento.ipynb\" target=\"_parent\"><img src=\"https://colab.research.google.com/assets/colab-badge.svg\" alt=\"Open In Colab\"/></a>"
      ]
    },
    {
      "cell_type": "markdown",
      "source": [
        "# **Metodología y resultados**\n",
        "\n",
        "La hipótesis alternativa que se planteo fue: \"Existe una relación significativa y positiva entre el PIB (GDP) y la satisfacción ajustada de las personas.\"\n",
        "Para evaluar esta relación, el código proporcionó los siguientes resultados estadísticos clave:"
      ],
      "metadata": {
        "id": "tL5SfD09I4Ts"
      }
    },
    {
      "cell_type": "code",
      "execution_count": 1,
      "metadata": {
        "colab": {
          "base_uri": "https://localhost:8080/",
          "height": 300
        },
        "id": "UOoHmr2NxtMt",
        "outputId": "b2b7833c-f613-4578-c082-869e25bcf9c7"
      },
      "outputs": [
        {
          "output_type": "execute_result",
          "data": {
            "text/plain": [
              "                       adjusted_satisfaction  avg_satisfaction  \\\n",
              "adjusted_satisfaction               1.000000          0.978067   \n",
              "avg_satisfaction                    0.978067          1.000000   \n",
              "std_satisfaction                   -0.527553         -0.341201   \n",
              "avg_income                          0.728006          0.689043   \n",
              "median_income                       0.704383          0.661883   \n",
              "income_inequality                  -0.123835         -0.082471   \n",
              "happyScore                          0.901213          0.885988   \n",
              "GDP                                 0.755578          0.776679   \n",
              "\n",
              "                       std_satisfaction  avg_income  median_income  \\\n",
              "adjusted_satisfaction         -0.527553    0.728006       0.704383   \n",
              "avg_satisfaction              -0.341201    0.689043       0.661883   \n",
              "std_satisfaction               1.000000   -0.478206      -0.481429   \n",
              "avg_income                    -0.478206    1.000000       0.995605   \n",
              "median_income                 -0.481429    0.995605       1.000000   \n",
              "income_inequality              0.221831   -0.382587      -0.449053   \n",
              "happyScore                    -0.457896    0.782122       0.760328   \n",
              "GDP                           -0.242038    0.814024       0.797905   \n",
              "\n",
              "                       income_inequality  happyScore       GDP  \n",
              "adjusted_satisfaction          -0.123835    0.901213  0.755578  \n",
              "avg_satisfaction               -0.082471    0.885988  0.776679  \n",
              "std_satisfaction                0.221831   -0.457896 -0.242038  \n",
              "avg_income                     -0.382587    0.782122  0.814024  \n",
              "median_income                  -0.449053    0.760328  0.797905  \n",
              "income_inequality               1.000000   -0.187222 -0.303204  \n",
              "happyScore                     -0.187222    1.000000  0.790061  \n",
              "GDP                            -0.303204    0.790061  1.000000  "
            ],
            "text/html": [
              "\n",
              "  <div id=\"df-b13db594-988c-404c-945d-711ea476f796\" class=\"colab-df-container\">\n",
              "    <div>\n",
              "<style scoped>\n",
              "    .dataframe tbody tr th:only-of-type {\n",
              "        vertical-align: middle;\n",
              "    }\n",
              "\n",
              "    .dataframe tbody tr th {\n",
              "        vertical-align: top;\n",
              "    }\n",
              "\n",
              "    .dataframe thead th {\n",
              "        text-align: right;\n",
              "    }\n",
              "</style>\n",
              "<table border=\"1\" class=\"dataframe\">\n",
              "  <thead>\n",
              "    <tr style=\"text-align: right;\">\n",
              "      <th></th>\n",
              "      <th>adjusted_satisfaction</th>\n",
              "      <th>avg_satisfaction</th>\n",
              "      <th>std_satisfaction</th>\n",
              "      <th>avg_income</th>\n",
              "      <th>median_income</th>\n",
              "      <th>income_inequality</th>\n",
              "      <th>happyScore</th>\n",
              "      <th>GDP</th>\n",
              "    </tr>\n",
              "  </thead>\n",
              "  <tbody>\n",
              "    <tr>\n",
              "      <th>adjusted_satisfaction</th>\n",
              "      <td>1.000000</td>\n",
              "      <td>0.978067</td>\n",
              "      <td>-0.527553</td>\n",
              "      <td>0.728006</td>\n",
              "      <td>0.704383</td>\n",
              "      <td>-0.123835</td>\n",
              "      <td>0.901213</td>\n",
              "      <td>0.755578</td>\n",
              "    </tr>\n",
              "    <tr>\n",
              "      <th>avg_satisfaction</th>\n",
              "      <td>0.978067</td>\n",
              "      <td>1.000000</td>\n",
              "      <td>-0.341201</td>\n",
              "      <td>0.689043</td>\n",
              "      <td>0.661883</td>\n",
              "      <td>-0.082471</td>\n",
              "      <td>0.885988</td>\n",
              "      <td>0.776679</td>\n",
              "    </tr>\n",
              "    <tr>\n",
              "      <th>std_satisfaction</th>\n",
              "      <td>-0.527553</td>\n",
              "      <td>-0.341201</td>\n",
              "      <td>1.000000</td>\n",
              "      <td>-0.478206</td>\n",
              "      <td>-0.481429</td>\n",
              "      <td>0.221831</td>\n",
              "      <td>-0.457896</td>\n",
              "      <td>-0.242038</td>\n",
              "    </tr>\n",
              "    <tr>\n",
              "      <th>avg_income</th>\n",
              "      <td>0.728006</td>\n",
              "      <td>0.689043</td>\n",
              "      <td>-0.478206</td>\n",
              "      <td>1.000000</td>\n",
              "      <td>0.995605</td>\n",
              "      <td>-0.382587</td>\n",
              "      <td>0.782122</td>\n",
              "      <td>0.814024</td>\n",
              "    </tr>\n",
              "    <tr>\n",
              "      <th>median_income</th>\n",
              "      <td>0.704383</td>\n",
              "      <td>0.661883</td>\n",
              "      <td>-0.481429</td>\n",
              "      <td>0.995605</td>\n",
              "      <td>1.000000</td>\n",
              "      <td>-0.449053</td>\n",
              "      <td>0.760328</td>\n",
              "      <td>0.797905</td>\n",
              "    </tr>\n",
              "    <tr>\n",
              "      <th>income_inequality</th>\n",
              "      <td>-0.123835</td>\n",
              "      <td>-0.082471</td>\n",
              "      <td>0.221831</td>\n",
              "      <td>-0.382587</td>\n",
              "      <td>-0.449053</td>\n",
              "      <td>1.000000</td>\n",
              "      <td>-0.187222</td>\n",
              "      <td>-0.303204</td>\n",
              "    </tr>\n",
              "    <tr>\n",
              "      <th>happyScore</th>\n",
              "      <td>0.901213</td>\n",
              "      <td>0.885988</td>\n",
              "      <td>-0.457896</td>\n",
              "      <td>0.782122</td>\n",
              "      <td>0.760328</td>\n",
              "      <td>-0.187222</td>\n",
              "      <td>1.000000</td>\n",
              "      <td>0.790061</td>\n",
              "    </tr>\n",
              "    <tr>\n",
              "      <th>GDP</th>\n",
              "      <td>0.755578</td>\n",
              "      <td>0.776679</td>\n",
              "      <td>-0.242038</td>\n",
              "      <td>0.814024</td>\n",
              "      <td>0.797905</td>\n",
              "      <td>-0.303204</td>\n",
              "      <td>0.790061</td>\n",
              "      <td>1.000000</td>\n",
              "    </tr>\n",
              "  </tbody>\n",
              "</table>\n",
              "</div>\n",
              "    <div class=\"colab-df-buttons\">\n",
              "\n",
              "  <div class=\"colab-df-container\">\n",
              "    <button class=\"colab-df-convert\" onclick=\"convertToInteractive('df-b13db594-988c-404c-945d-711ea476f796')\"\n",
              "            title=\"Convert this dataframe to an interactive table.\"\n",
              "            style=\"display:none;\">\n",
              "\n",
              "  <svg xmlns=\"http://www.w3.org/2000/svg\" height=\"24px\" viewBox=\"0 -960 960 960\">\n",
              "    <path d=\"M120-120v-720h720v720H120Zm60-500h600v-160H180v160Zm220 220h160v-160H400v160Zm0 220h160v-160H400v160ZM180-400h160v-160H180v160Zm440 0h160v-160H620v160ZM180-180h160v-160H180v160Zm440 0h160v-160H620v160Z\"/>\n",
              "  </svg>\n",
              "    </button>\n",
              "\n",
              "  <style>\n",
              "    .colab-df-container {\n",
              "      display:flex;\n",
              "      gap: 12px;\n",
              "    }\n",
              "\n",
              "    .colab-df-convert {\n",
              "      background-color: #E8F0FE;\n",
              "      border: none;\n",
              "      border-radius: 50%;\n",
              "      cursor: pointer;\n",
              "      display: none;\n",
              "      fill: #1967D2;\n",
              "      height: 32px;\n",
              "      padding: 0 0 0 0;\n",
              "      width: 32px;\n",
              "    }\n",
              "\n",
              "    .colab-df-convert:hover {\n",
              "      background-color: #E2EBFA;\n",
              "      box-shadow: 0px 1px 2px rgba(60, 64, 67, 0.3), 0px 1px 3px 1px rgba(60, 64, 67, 0.15);\n",
              "      fill: #174EA6;\n",
              "    }\n",
              "\n",
              "    .colab-df-buttons div {\n",
              "      margin-bottom: 4px;\n",
              "    }\n",
              "\n",
              "    [theme=dark] .colab-df-convert {\n",
              "      background-color: #3B4455;\n",
              "      fill: #D2E3FC;\n",
              "    }\n",
              "\n",
              "    [theme=dark] .colab-df-convert:hover {\n",
              "      background-color: #434B5C;\n",
              "      box-shadow: 0px 1px 3px 1px rgba(0, 0, 0, 0.15);\n",
              "      filter: drop-shadow(0px 1px 2px rgba(0, 0, 0, 0.3));\n",
              "      fill: #FFFFFF;\n",
              "    }\n",
              "  </style>\n",
              "\n",
              "    <script>\n",
              "      const buttonEl =\n",
              "        document.querySelector('#df-b13db594-988c-404c-945d-711ea476f796 button.colab-df-convert');\n",
              "      buttonEl.style.display =\n",
              "        google.colab.kernel.accessAllowed ? 'block' : 'none';\n",
              "\n",
              "      async function convertToInteractive(key) {\n",
              "        const element = document.querySelector('#df-b13db594-988c-404c-945d-711ea476f796');\n",
              "        const dataTable =\n",
              "          await google.colab.kernel.invokeFunction('convertToInteractive',\n",
              "                                                    [key], {});\n",
              "        if (!dataTable) return;\n",
              "\n",
              "        const docLinkHtml = 'Like what you see? Visit the ' +\n",
              "          '<a target=\"_blank\" href=https://colab.research.google.com/notebooks/data_table.ipynb>data table notebook</a>'\n",
              "          + ' to learn more about interactive tables.';\n",
              "        element.innerHTML = '';\n",
              "        dataTable['output_type'] = 'display_data';\n",
              "        await google.colab.output.renderOutput(dataTable, element);\n",
              "        const docLink = document.createElement('div');\n",
              "        docLink.innerHTML = docLinkHtml;\n",
              "        element.appendChild(docLink);\n",
              "      }\n",
              "    </script>\n",
              "  </div>\n",
              "\n",
              "\n",
              "<div id=\"df-11ff72fc-82a1-43b8-994c-511ca5c4019b\">\n",
              "  <button class=\"colab-df-quickchart\" onclick=\"quickchart('df-11ff72fc-82a1-43b8-994c-511ca5c4019b')\"\n",
              "            title=\"Suggest charts\"\n",
              "            style=\"display:none;\">\n",
              "\n",
              "<svg xmlns=\"http://www.w3.org/2000/svg\" height=\"24px\"viewBox=\"0 0 24 24\"\n",
              "     width=\"24px\">\n",
              "    <g>\n",
              "        <path d=\"M19 3H5c-1.1 0-2 .9-2 2v14c0 1.1.9 2 2 2h14c1.1 0 2-.9 2-2V5c0-1.1-.9-2-2-2zM9 17H7v-7h2v7zm4 0h-2V7h2v10zm4 0h-2v-4h2v4z\"/>\n",
              "    </g>\n",
              "</svg>\n",
              "  </button>\n",
              "\n",
              "<style>\n",
              "  .colab-df-quickchart {\n",
              "      --bg-color: #E8F0FE;\n",
              "      --fill-color: #1967D2;\n",
              "      --hover-bg-color: #E2EBFA;\n",
              "      --hover-fill-color: #174EA6;\n",
              "      --disabled-fill-color: #AAA;\n",
              "      --disabled-bg-color: #DDD;\n",
              "  }\n",
              "\n",
              "  [theme=dark] .colab-df-quickchart {\n",
              "      --bg-color: #3B4455;\n",
              "      --fill-color: #D2E3FC;\n",
              "      --hover-bg-color: #434B5C;\n",
              "      --hover-fill-color: #FFFFFF;\n",
              "      --disabled-bg-color: #3B4455;\n",
              "      --disabled-fill-color: #666;\n",
              "  }\n",
              "\n",
              "  .colab-df-quickchart {\n",
              "    background-color: var(--bg-color);\n",
              "    border: none;\n",
              "    border-radius: 50%;\n",
              "    cursor: pointer;\n",
              "    display: none;\n",
              "    fill: var(--fill-color);\n",
              "    height: 32px;\n",
              "    padding: 0;\n",
              "    width: 32px;\n",
              "  }\n",
              "\n",
              "  .colab-df-quickchart:hover {\n",
              "    background-color: var(--hover-bg-color);\n",
              "    box-shadow: 0 1px 2px rgba(60, 64, 67, 0.3), 0 1px 3px 1px rgba(60, 64, 67, 0.15);\n",
              "    fill: var(--button-hover-fill-color);\n",
              "  }\n",
              "\n",
              "  .colab-df-quickchart-complete:disabled,\n",
              "  .colab-df-quickchart-complete:disabled:hover {\n",
              "    background-color: var(--disabled-bg-color);\n",
              "    fill: var(--disabled-fill-color);\n",
              "    box-shadow: none;\n",
              "  }\n",
              "\n",
              "  .colab-df-spinner {\n",
              "    border: 2px solid var(--fill-color);\n",
              "    border-color: transparent;\n",
              "    border-bottom-color: var(--fill-color);\n",
              "    animation:\n",
              "      spin 1s steps(1) infinite;\n",
              "  }\n",
              "\n",
              "  @keyframes spin {\n",
              "    0% {\n",
              "      border-color: transparent;\n",
              "      border-bottom-color: var(--fill-color);\n",
              "      border-left-color: var(--fill-color);\n",
              "    }\n",
              "    20% {\n",
              "      border-color: transparent;\n",
              "      border-left-color: var(--fill-color);\n",
              "      border-top-color: var(--fill-color);\n",
              "    }\n",
              "    30% {\n",
              "      border-color: transparent;\n",
              "      border-left-color: var(--fill-color);\n",
              "      border-top-color: var(--fill-color);\n",
              "      border-right-color: var(--fill-color);\n",
              "    }\n",
              "    40% {\n",
              "      border-color: transparent;\n",
              "      border-right-color: var(--fill-color);\n",
              "      border-top-color: var(--fill-color);\n",
              "    }\n",
              "    60% {\n",
              "      border-color: transparent;\n",
              "      border-right-color: var(--fill-color);\n",
              "    }\n",
              "    80% {\n",
              "      border-color: transparent;\n",
              "      border-right-color: var(--fill-color);\n",
              "      border-bottom-color: var(--fill-color);\n",
              "    }\n",
              "    90% {\n",
              "      border-color: transparent;\n",
              "      border-bottom-color: var(--fill-color);\n",
              "    }\n",
              "  }\n",
              "</style>\n",
              "\n",
              "  <script>\n",
              "    async function quickchart(key) {\n",
              "      const quickchartButtonEl =\n",
              "        document.querySelector('#' + key + ' button');\n",
              "      quickchartButtonEl.disabled = true;  // To prevent multiple clicks.\n",
              "      quickchartButtonEl.classList.add('colab-df-spinner');\n",
              "      try {\n",
              "        const charts = await google.colab.kernel.invokeFunction(\n",
              "            'suggestCharts', [key], {});\n",
              "      } catch (error) {\n",
              "        console.error('Error during call to suggestCharts:', error);\n",
              "      }\n",
              "      quickchartButtonEl.classList.remove('colab-df-spinner');\n",
              "      quickchartButtonEl.classList.add('colab-df-quickchart-complete');\n",
              "    }\n",
              "    (() => {\n",
              "      let quickchartButtonEl =\n",
              "        document.querySelector('#df-11ff72fc-82a1-43b8-994c-511ca5c4019b button');\n",
              "      quickchartButtonEl.style.display =\n",
              "        google.colab.kernel.accessAllowed ? 'block' : 'none';\n",
              "    })();\n",
              "  </script>\n",
              "</div>\n",
              "\n",
              "    </div>\n",
              "  </div>\n"
            ],
            "application/vnd.google.colaboratory.intrinsic+json": {
              "type": "dataframe",
              "summary": "{\n  \"name\": \"df\",\n  \"rows\": 8,\n  \"fields\": [\n    {\n      \"column\": \"adjusted_satisfaction\",\n      \"properties\": {\n        \"dtype\": \"number\",\n        \"std\": 0.5634102547927833,\n        \"min\": -0.5275532088607164,\n        \"max\": 1.0,\n        \"num_unique_values\": 8,\n        \"samples\": [\n          0.9780667572346268,\n          -0.12383536310987393,\n          1.0\n        ],\n        \"semantic_type\": \"\",\n        \"description\": \"\"\n      }\n    },\n    {\n      \"column\": \"avg_satisfaction\",\n      \"properties\": {\n        \"dtype\": \"number\",\n        \"std\": 0.5032174506850238,\n        \"min\": -0.3412010812968173,\n        \"max\": 1.0,\n        \"num_unique_values\": 8,\n        \"samples\": [\n          1.0,\n          -0.08247104109895069,\n          0.9780667572346268\n        ],\n        \"semantic_type\": \"\",\n        \"description\": \"\"\n      }\n    },\n    {\n      \"column\": \"std_satisfaction\",\n      \"properties\": {\n        \"dtype\": \"number\",\n        \"std\": 0.5290531442478096,\n        \"min\": -0.5275532088607164,\n        \"max\": 1.0,\n        \"num_unique_values\": 8,\n        \"samples\": [\n          -0.3412010812968173,\n          0.22183125465663506,\n          -0.5275532088607164\n        ],\n        \"semantic_type\": \"\",\n        \"description\": \"\"\n      }\n    },\n    {\n      \"column\": \"avg_income\",\n      \"properties\": {\n        \"dtype\": \"number\",\n        \"std\": 0.596975957072708,\n        \"min\": -0.47820614162792785,\n        \"max\": 1.0,\n        \"num_unique_values\": 8,\n        \"samples\": [\n          0.6890431200372593,\n          -0.3825872681300009,\n          0.7280064046370455\n        ],\n        \"semantic_type\": \"\",\n        \"description\": \"\"\n      }\n    },\n    {\n      \"column\": \"median_income\",\n      \"properties\": {\n        \"dtype\": \"number\",\n        \"std\": 0.6075726107859323,\n        \"min\": -0.48142862418717236,\n        \"max\": 1.0,\n        \"num_unique_values\": 8,\n        \"samples\": [\n          0.6618826437055587,\n          -0.4490531217758646,\n          0.704382914249782\n        ],\n        \"semantic_type\": \"\",\n        \"description\": \"\"\n      }\n    },\n    {\n      \"column\": \"income_inequality\",\n      \"properties\": {\n        \"dtype\": \"number\",\n        \"std\": 0.4682194913120971,\n        \"min\": -0.4490531217758646,\n        \"max\": 1.0,\n        \"num_unique_values\": 8,\n        \"samples\": [\n          -0.08247104109895069,\n          1.0,\n          -0.12383536310987393\n        ],\n        \"semantic_type\": \"\",\n        \"description\": \"\"\n      }\n    },\n    {\n      \"column\": \"happyScore\",\n      \"properties\": {\n        \"dtype\": \"number\",\n        \"std\": 0.5546095515123939,\n        \"min\": -0.45789636123539756,\n        \"max\": 1.0,\n        \"num_unique_values\": 8,\n        \"samples\": [\n          0.8859881755996319,\n          -0.187222242767077,\n          0.9012127125177481\n        ],\n        \"semantic_type\": \"\",\n        \"description\": \"\"\n      }\n    },\n    {\n      \"column\": \"GDP\",\n      \"properties\": {\n        \"dtype\": \"number\",\n        \"std\": 0.512724846846724,\n        \"min\": -0.3032041780188641,\n        \"max\": 1.0,\n        \"num_unique_values\": 8,\n        \"samples\": [\n          0.7766785738379585,\n          -0.3032041780188641,\n          0.7555780757486876\n        ],\n        \"semantic_type\": \"\",\n        \"description\": \"\"\n      }\n    }\n  ]\n}"
            }
          },
          "metadata": {},
          "execution_count": 1
        }
      ],
      "source": [
        "import pandas as pd\n",
        "import numpy as np\n",
        "#Subir la base de datos\n",
        "df = pd.read_csv(\"https://raw.githubusercontent.com/Morganblabla/Estadistica/refs/heads/main/em-9EhjTEemU7w7-EFnPcg_7aa34fc018d311e980c2cb6467517117_happyscore_income.csv\")\n",
        "df.dropna(inplace = True)\n",
        "df.drop(columns=[\"region\",\"country\",\"country.1\"],inplace = True)\n",
        "df.corr()"
      ]
    },
    {
      "cell_type": "code",
      "source": [
        "#Definir las variables\n",
        "x = df['GDP']\n",
        "y = df['adjusted_satisfaction']\n",
        "\n",
        "#Gráfico con la dispersión y la recta de regresión ajustada.\n",
        "import seaborn as sns\n",
        "import matplotlib.pyplot as plt\n",
        "sns.regplot(x=df[\"GDP\"], y=df[\"adjusted_satisfaction\"], scatter_kws={\"color\": \"pink\"}, line_kws={\"color\": \"blue\"})\n",
        "plt.xlabel(\"Buenas Prácticas de Distribución\")\n",
        "plt.ylabel(\"Satisfacción ajustada\")\n",
        "plt.title(\"Gráfico de dispersión con línea de regresión\")\n",
        "plt.grid()\n",
        "plt.show()\n",
        "#Coeficiente de correlación y el coeficiente de determinación\n",
        "Sxx= np.sum((x- np.mean(x))**2)\n",
        "Sxy= np.sum((x- np.mean(x))*(y- np.mean(y)))\n",
        "Syy= np.sum((y- np.mean(y))**2)\n",
        "r= Sxy/ np.sqrt(Sxx*Syy)\n",
        "print(\"Coeficiente de correlacion:\",r)\n",
        "print(\"Coeficiente de determinacion\",r**2)"
      ],
      "metadata": {
        "colab": {
          "base_uri": "https://localhost:8080/",
          "height": 507
        },
        "id": "fgTEoIYYI5DM",
        "outputId": "eb1febac-ba4b-4cb3-d4cd-d793a7097706"
      },
      "execution_count": 2,
      "outputs": [
        {
          "output_type": "display_data",
          "data": {
            "text/plain": [
              "<Figure size 640x480 with 1 Axes>"
            ],
            "image/png": "[encoded data removed]"
          },
          "metadata": {}
        },
        {
          "output_type": "stream",
          "name": "stdout",
          "text": [
            "Coeficiente de correlacion: 0.755578075748688\n",
            "Coeficiente de determinacion 0.57089822855209\n"
          ]
        }
      ]
    },
    {
      "cell_type": "markdown",
      "source": [
        "# 1. Correlación entre el PIB y la satisfacción ajustada\n",
        "\n",
        "\n",
        "*  *** Coeficiente de correlación (r) = 0.755.*** Esto indica una correlación positiva fuerte entre el PIB y la satisfacción ajustada. A medida que el PIB aumenta, la satisfacción ajustada también tiende a aumentar.\n",
        "*  ***Coeficiente de determinación (R²) = 0.571*** Aproximadamente el 57.1% de la variabilidad en la satisfacción ajustada puede explicarse por el PIB. El otro 42.9% se debe a otros factores no considerados en este análisis (salud, educación, desigualdad, etc.).\n",
        "\n",
        "***Conclusión parcial: La correlación es fuerte y sugiere que el PIB es un predictor importante de la satisfacción ajustada, pero no el único factor.***"
      ],
      "metadata": {
        "id": "Sm_CFAByJOyI"
      }
    },
    {
      "cell_type": "code",
      "source": [
        "#Intervalo de confianza de 98% para la pendiente\n",
        "b1 = Sxy / Sxx\n",
        "b0 = np.mean(y) - b1 * np.mean(x)\n",
        "Yc = b1 * x + b0\n",
        "residuales = y - Yc\n",
        "nivel_significancia = 0.02\n",
        "from scipy.stats import t\n",
        "t_critico = t.ppf(1 - nivel_significancia / 2, len(y) - 2)\n",
        "se_b1 = np.sqrt(np.sum((y - Yc) ** 2) / (len(y) - 2)) / np.sqrt(Sxx)\n",
        "confianza_b1 = (b1 - t_critico * se_b1, b1 + t_critico * se_b1)\n",
        "print(f\"Intervalo de confianza b1 al 98%: {confianza_b1}\")"
      ],
      "metadata": {
        "colab": {
          "base_uri": "https://localhost:8080/"
        },
        "id": "z8Hs6FsDJWZK",
        "outputId": "8415bd14-d747-48d0-feb0-ff69202c8fa4"
      },
      "execution_count": 3,
      "outputs": [
        {
          "output_type": "stream",
          "name": "stdout",
          "text": [
            "Intervalo de confianza b1 al 98%: (19.377275968333667, 28.82858296251103)\n"
          ]
        }
      ]
    },
    {
      "cell_type": "markdown",
      "source": [
        "# 2. Intervalo de confianza para la pendiente (b1)\n",
        "Intervalo de confianza al 98%: (19.38, 28.83)\n",
        "\n",
        "*   Esto significa que estamos 98% seguros de que el impacto del PIB sobre la satisfacción ajustada se encuentra dentro de este rango.\n",
        "Como el intervalo no incluye el valor 0, indica que la relación es estadísticamente significativa.\n",
        "\n",
        "***Conclusión parcial: La relación entre el PIB y la satisfacción ajustada no es producto del azar.***"
      ],
      "metadata": {
        "id": "9hxASlCvJfPO"
      }
    },
    {
      "cell_type": "code",
      "source": [
        "#Supuestos\n",
        "\n",
        "#ANOVA\n",
        "print(f\"Sxx: {Sxx}\")\n",
        "print(f\"Sxy: {Sxy}\")\n",
        "print(f\"Syy: {Syy}\")\n",
        "print(f\"SSE: {np.sum(residuales**2)}\")\n",
        "print(f\"SST: {np.sum(y-np.mean(y))**2}\")\n",
        "print(f\"SSR: {np.sum(Yc-np.mean(y))**2}\")\n",
        "print(f\"MSR: {np.sum(Yc-np.mean(y))**2/1}\")\n",
        "print(f\"MSE: {np.sum(residuales**2)/(len(y)-2)}\")\n",
        "print(f\"F: {(np.sum((Yc-np.mean(y))**2)/1)/np.sum(residuales**2)/(len(y)-2)}\")"
      ],
      "metadata": {
        "colab": {
          "base_uri": "https://localhost:8080/"
        },
        "id": "VX03pShvJllq",
        "outputId": "4c409939-06df-4e1b-9519-27cf6499f200"
      },
      "execution_count": 4,
      "outputs": [
        {
          "output_type": "stream",
          "name": "stdout",
          "text": [
            "Sxx: 16.524903893709904\n",
            "Sxy: 398.298592972973\n",
            "Syy: 16815.89189189189\n",
            "SSE: 7215.728999287361\n",
            "SST: 1.472203775759661e-25\n",
            "SSR: 3.4129278203481855e-26\n",
            "MSR: 3.4129278203481855e-26\n",
            "MSE: 66.19934861731524\n",
            "F: 0.012205958529162586\n"
          ]
        }
      ]
    },
    {
      "cell_type": "markdown",
      "source": [
        "# 3. ANOVA y análisis de varianza\n",
        "\n",
        "*   F = 0.0122 (muy bajo)\n",
        "*   Elemento de la lista\n",
        "\n",
        "Esto indica que el modelo explica la variabilidad en la satisfacción ajustada, pero no de manera perfecta.\n",
        "Sin embargo, dado que la correlación es fuerte y significativa, el PIB sigue siendo un predictor relevante.\n",
        "\n",
        "***Conclusión parcial: Aunque el modelo no es perfecto, los resultados sugieren que el PIB es un factor importante en la satisfacción ajustada.***"
      ],
      "metadata": {
        "id": "gBoX12wsJyT3"
      }
    },
    {
      "cell_type": "code",
      "source": [
        "#Shapiro\n",
        "from scipy.stats import shapiro\n",
        "stat, p_value = shapiro(residuales)\n",
        "print(f\"Test de Shapiro - Estadístico: {stat}, valor-p: {p_value}\")\n",
        "if p_value > 0.05:\n",
        "    print(\"Los residuos siguen una distribución normal.\")\n",
        "else:\n",
        "    print(\"Los residuos no siguen una distribución normal.\")"
      ],
      "metadata": {
        "colab": {
          "base_uri": "https://localhost:8080/"
        },
        "id": "NIEbaIsOJ6tr",
        "outputId": "fd107af0-a550-4733-a1df-4edf67c41cd3"
      },
      "execution_count": 5,
      "outputs": [
        {
          "output_type": "stream",
          "name": "stdout",
          "text": [
            "Test de Shapiro - Estadístico: 0.9917181734787794, valor-p: 0.743124419949181\n",
            "Los residuos siguen una distribución normal.\n"
          ]
        }
      ]
    },
    {
      "cell_type": "markdown",
      "source": [
        "# ***4. Validación de los supuestos de regresión***\n",
        "Para que los resultados sean confiables, se realizaron pruebas sobre los supuestos del modelo de regresión:\n",
        "\n",
        "*   Normalidad de los residuos (Test de Shapiro-Wilk)\n",
        "Valor p = 0.743 (mayor a 0.05)\n",
        "Los residuos siguen una distribución normal, lo que valida el uso del modelo de regresión lineal."
      ],
      "metadata": {
        "id": "z2wQWNRhKCh-"
      }
    },
    {
      "cell_type": "code",
      "source": [
        "#Independencia\n",
        "residuales= y-Yc\n",
        "plt.figure()\n",
        "plt.grid()\n",
        "plt.scatter(x, residuales, color=\"pink\")\n",
        "plt.xlabel(\"Buenas Prácticas de Distribución\")\n",
        "plt.ylabel(\"Satisfacción ajustada\")\n",
        "plt.title(\"Grafico de residuales\")\n",
        "plt.axhline(y=0, color=\"blue\", linestyle=\"--\")\n",
        "# Test de  Brausch-Pagan\n",
        "import statsmodels.api as sm\n",
        "from statsmodels.stats.diagnostic import het_breuschpagan\n",
        "X = sm.add_constant(x)\n",
        "bp_stat, bp_p_value, _, _ = het_breuschpagan(residuales, X)\n",
        "print(f\"Test de Breusch-Pagan - Estadístico: {bp_stat}, valor-p: {bp_p_value}\")\n",
        "if bp_p_value > 0.05:\n",
        "    print(\"No hay evidencia de heteroscedasticidad.\")\n",
        "else:\n",
        "    print(\"Hay evidencia de heteroscedasticidad.\")"
      ],
      "metadata": {
        "colab": {
          "base_uri": "https://localhost:8080/",
          "height": 507
        },
        "id": "sPlAYFNzKOqc",
        "outputId": "6a47048f-0e5b-4222-f3b2-0d9295af07e4"
      },
      "execution_count": 6,
      "outputs": [
        {
          "output_type": "stream",
          "name": "stdout",
          "text": [
            "Test de Breusch-Pagan - Estadístico: 0.08604576753432991, valor-p: 0.7692656536722939\n",
            "No hay evidencia de heteroscedasticidad.\n"
          ]
        },
        {
          "output_type": "display_data",
          "data": {
            "text/plain": [
              "<Figure size 640x480 with 1 Axes>"
            ],
            "image/png": "[encoded data removed]"
          },
          "metadata": {}
        }
      ]
    },
    {
      "cell_type": "markdown",
      "source": [
        "***Homoscedasticidad (Test de Breusch-Pagan)***\n",
        "***Valor p = 0.769 (mayor a 0.05).*** No hay heteroscedasticidad, es decir, la varianza de los errores es constante.\n",
        "\n",
        "***Conclusión parcial: El modelo de regresión cumple con los supuestos estadísticos, por lo que sus resultados son confiables.***\n"
      ],
      "metadata": {
        "id": "xeeotMMhKXlv"
      }
    }
  ]
}